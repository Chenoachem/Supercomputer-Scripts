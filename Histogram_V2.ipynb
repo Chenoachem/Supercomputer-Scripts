{
 "cells": [
  {
   "cell_type": "code",
   "execution_count": 5,
   "metadata": {
    "collapsed": false
   },
   "outputs": [],
   "source": [
    "%matplotlib inline\n",
    "import os\n",
    "import argparse\n",
    "import numpy as np\n",
    "import astropy\n",
    "from astropy.io import fits\n",
    "import matplotlib\n",
    "from matplotlib import pyplot as plt\n",
    "from astropy.coordinates import SkyCoord  # High-level coordinates\n",
    "from astropy.coordinates import ICRS, Galactic, FK4, FK5  # Low-level frames\n",
    "from astropy.coordinates import Angle, Latitude, Longitude  # Angles\n",
    "import astropy.units as u\n",
    "from astropy import wcs\n",
    "import math\n"
   ]
  },
  {
   "cell_type": "code",
   "execution_count": 23,
   "metadata": {
    "collapsed": false
   },
   "outputs": [
    {
     "data": {
      "text/plain": [
       "(1, 100, 2000, 2000)"
      ]
     },
     "execution_count": 23,
     "metadata": {},
     "output_type": "execute_result"
    }
   ],
   "source": [
    "datacube = fits.open('Cube_1160_Clean/Orion_snr.fits')\n",
    "data = datacube[0].data\n",
    "header = datacube[0].header\n",
    "cube = data[:,:,:]\n",
    "cube.shape"
   ]
  },
  {
   "cell_type": "code",
   "execution_count": 7,
   "metadata": {
    "collapsed": true
   },
   "outputs": [],
   "source": [
    "w = wcs.WCS(header, naxis=2)"
   ]
  },
  {
   "cell_type": "code",
   "execution_count": 9,
   "metadata": {
    "collapsed": false
   },
   "outputs": [
    {
     "name": "stdout",
     "output_type": "stream",
     "text": [
      "[ 110.79  110.8   110.81  110.82  110.83  110.84  110.85  110.86  110.87\n",
      "  110.88  110.89  110.9   110.91  110.92  110.93  110.94  110.95  110.96\n",
      "  110.97  110.98  110.99  111.    111.01  111.02  111.03  111.04  111.05\n",
      "  111.06  111.07  111.08  111.09  111.1   111.11  111.12  111.13  111.14\n",
      "  111.15  111.16  111.17  111.18  111.19  111.2   111.21  111.22  111.23\n",
      "  111.24  111.25  111.26  111.27  111.28  111.29  111.3   111.31  111.32\n",
      "  111.33  111.34  111.35  111.36  111.37  111.38  111.39  111.4   111.41\n",
      "  111.42  111.43  111.44  111.45  111.46  111.47  111.48  111.49  111.5\n",
      "  111.51  111.52  111.53  111.54  111.55  111.56  111.57  111.58  111.59\n",
      "  111.6   111.61  111.62  111.63  111.64  111.65  111.66  111.67  111.68\n",
      "  111.69  111.7   111.71  111.72  111.73  111.74  111.75  111.76  111.77\n",
      "  111.78]\n"
     ]
    }
   ],
   "source": [
    "rp = datacube[0].header['CRPIX3']\n",
    "rf = datacube[0].header['CRVAL3']\n",
    "df = datacube[0].header['CDELT3']\n",
    "nf = datacube[0].header['NAXIS3']\n",
    "xvals = rf + df*(np.arange(nf)-rp)\n",
    "xvals_small=xvals[0:100]/10**6\n",
    "print xvals_small"
   ]
  },
  {
   "cell_type": "code",
   "execution_count": 18,
   "metadata": {
    "collapsed": false
   },
   "outputs": [
    {
     "name": "stdout",
     "output_type": "stream",
     "text": [
      "[23]\n"
     ]
    }
   ],
   "source": [
    "freq=111.02\n",
    "slice=np.where(xvals_small==freq)\n",
    "print str(slice[0])"
   ]
  },
  {
   "cell_type": "code",
   "execution_count": 46,
   "metadata": {
    "collapsed": false
   },
   "outputs": [
    {
     "data": {
      "image/png": "[encoded data removed]",
      "text/plain": [
       "<matplotlib.figure.Figure at 0x7f1466cd2050>"
      ]
     },
     "metadata": {},
     "output_type": "display_data"
    }
   ],
   "source": [
    "counts,bins = np.histogram(cube[:,slice,1400:1700,1400:1700],bins=np.arange(-5,5,0.2))\n",
    "fig2=plt.figure()\n",
    "ax=fig2.add_subplot(1,2,1)\n",
    "ax.semilogy(bins[:-1],counts)\n",
    "#ax.set_xlim([-2,2])\n",
    "plt.suptitle(\"Pixel Histogram 1400:1700 - Slice\" + str(slice[0])+ \" Frequency \"+ str(freq), y=1.08) \n",
    "ax.set_title(\"Log Plot\")\n",
    "ax.set_xlim([-4,4])\n",
    "ax2=fig2.add_subplot(1,2,2)\n",
    "ax2.plot(bins[:-1],counts)\n",
    "ax2.set_xlim([-4,4])\n",
    "ax2.set_title(\"Normal Histogram\")\n",
    "#ax2.set_title(\"Pixel Histogram 400:700, 400:700\")\n",
    "plt.tight_layout(pad=0.7)"
   ]
  },
  {
   "cell_type": "code",
   "execution_count": 47,
   "metadata": {
    "collapsed": true
   },
   "outputs": [],
   "source": [
    "fig2.savefig('Histogram_'+str(slice[0])+'.png')"
   ]
  },
  {
   "cell_type": "code",
   "execution_count": null,
   "metadata": {
    "collapsed": true
   },
   "outputs": [],
   "source": []
  }
 ],
 "metadata": {
  "kernelspec": {
   "display_name": "Python 2",
   "language": "python",
   "name": "python2"
  },
  "language_info": {
   "codemirror_mode": {
    "name": "ipython",
    "version": 2
   },
   "file_extension": ".py",
   "mimetype": "text/x-python",
   "name": "python",
   "nbconvert_exporter": "python",
   "pygments_lexer": "ipython2",
   "version": "2.7.12"
  }
 },
 "nbformat": 4,
 "nbformat_minor": 0
}
